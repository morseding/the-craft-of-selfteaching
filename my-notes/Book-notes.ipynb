{
 "cells": [
  {
   "cell_type": "markdown",
   "metadata": {},
   "source": [
    "序言中讲到：\n",
    "\n",
    "> 知道、得到、做到之间，均各不相同。\n",
    "\n",
    "就是说，**知道不等于得到，得到不等于做到**。此言不虚啊。\n",
    "\n",
    "知道，是我们读万卷书、行万里路，看到、听到的东西；\n",
    "\n",
    "得到，是我们从看到、听到的东西，也就是知道中感悟到的东西，比如我应该干什么、怎么干；\n",
    "\n",
    "做到，是我们把得到的东西付诸实践，真正行动之后获得的东西，这些东西才是会融入我们身体和大脑，不会消散的东西。\n",
    "\n",
    "> 纸上得来终觉浅，绝知此事要躬行。\n",
    "\n",
    "知易行难。\n",
    "\n",
    "人与人的分别即于此。"
   ]
  }
 ],
 "metadata": {
  "kernelspec": {
   "display_name": "Python 3",
   "language": "python",
   "name": "python3"
  },
  "language_info": {
   "codemirror_mode": {
    "name": "ipython",
    "version": 3
   },
   "file_extension": ".py",
   "mimetype": "text/x-python",
   "name": "python",
   "nbconvert_exporter": "python",
   "pygments_lexer": "ipython3",
   "version": "3.7.3"
  }
 },
 "nbformat": 4,
 "nbformat_minor": 2
}
